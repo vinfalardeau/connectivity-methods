{
 "cells": [
  {
   "cell_type": "code",
   "execution_count": 1,
   "id": "179426b3",
   "metadata": {},
   "outputs": [
    {
     "name": "stdout",
     "output_type": "stream",
     "text": [
      "WhiteboxTools v2.1.0 by Dr. John B. Lindsay (c) 2017-2021\n",
      "\n",
      "WhiteboxTools is an advanced geospatial data analysis platform developed at\n",
      "the University of Guelph's Geomorphometry and Hydrogeomatics Research \n",
      "Group (GHRG). See www.whiteboxgeo.com for more details.\n",
      "\n"
     ]
    }
   ],
   "source": [
    "import os\n",
    "import pkg_resources\n",
    "import whitebox\n",
    "from osgeo import gdal\n",
    "from osgeo import gdal_array\n",
    "import numpy as np\n",
    "\n",
    "wbt = whitebox.WhiteboxTools()\n",
    "print(wbt.version())\n",
    "\n",
    "work_dir = r\"C:\\Rhumb Line Maps Dropbox\\Contracts\\MidcoastConservancy\\18_Connectivity\\LocalConnectivity\"\n",
    "wbt.set_working_dir(work_dir)\n",
    "wbt.verbose = False"
   ]
  },
  {
   "cell_type": "code",
   "execution_count": 18,
   "id": "de055cf9",
   "metadata": {},
   "outputs": [
    {
     "name": "stdout",
     "output_type": "stream",
     "text": [
      "1.23.2\n"
     ]
    }
   ],
   "source": [
    "print(np.__version__)"
   ]
  },
  {
   "cell_type": "code",
   "execution_count": null,
   "id": "84f98be9",
   "metadata": {},
   "outputs": [],
   "source": []
  }
 ],
 "metadata": {
  "kernelspec": {
   "display_name": "Python [conda env:wbt]",
   "language": "python",
   "name": "conda-env-wbt-py"
  },
  "language_info": {
   "codemirror_mode": {
    "name": "ipython",
    "version": 3
   },
   "file_extension": ".py",
   "mimetype": "text/x-python",
   "name": "python",
   "nbconvert_exporter": "python",
   "pygments_lexer": "ipython3",
   "version": "3.10.4"
  }
 },
 "nbformat": 4,
 "nbformat_minor": 5
}
